{
  "nbformat": 4,
  "nbformat_minor": 0,
  "metadata": {
    "kernelspec": {
      "display_name": "Python 3",
      "language": "python",
      "name": "python3"
    },
    "language_info": {
      "codemirror_mode": {
        "name": "ipython",
        "version": 3
      },
      "file_extension": ".py",
      "mimetype": "text/x-python",
      "name": "python",
      "nbconvert_exporter": "python",
      "pygments_lexer": "ipython3",
      "version": "3.7.4"
    },
    "colab": {
      "name": "GTCOVID.ipynb",
      "provenance": []
    }
  },
  "cells": [
    {
      "cell_type": "markdown",
      "metadata": {
        "id": "b0z4_K4Q5KfI",
        "colab_type": "text"
      },
      "source": [
        "# Importando librerías para el análisis exploratorio de los datos.\n",
        "\n",
        "### pandas y seaborn, librerías que ayudarán al análisis exploratorio gráfico y manipulación de datos"
      ]
    },
    {
      "cell_type": "code",
      "metadata": {
        "id": "VyzQxePJKYsp",
        "colab_type": "code",
        "colab": {}
      },
      "source": [
        "import pandas as pd\n",
        "import seaborn as sns\n",
        "import matplotlib.pyplot as plt"
      ],
      "execution_count": null,
      "outputs": []
    },
    {
      "cell_type": "markdown",
      "metadata": {
        "id": "9FU4p-hZ5KfP",
        "colab_type": "text"
      },
      "source": [
        "# Cargando los datos descargados en formato Excel"
      ]
    },
    {
      "cell_type": "code",
      "metadata": {
        "id": "hqJzY5Mx5KfP",
        "colab_type": "code",
        "colab": {}
      },
      "source": [
        "gtc_covid = pd.read_excel(\"/content/concursos-terminados-adjudicados-al-amparo-de-la-emergecia-covid19.xlsx\", header=\"infer\", index_col=0, parse_dates=True)\n",
        "gtc_todos = pd.read_excel(\"/content/concursos-publicados-2020-adjudicado.xlsx\", header=\"infer\",index_col=0,parse_dates=True)"
      ],
      "execution_count": 85,
      "outputs": []
    },
    {
      "cell_type": "markdown",
      "metadata": {
        "id": "kQgqv3vyJCK8",
        "colab_type": "text"
      },
      "source": [
        "Analizando los tamaños, contenidos y tipos de datos de cada archivo.  \n"
      ]
    },
    {
      "cell_type": "code",
      "metadata": {
        "id": "ze-1nRpx5KfT",
        "colab_type": "code",
        "colab": {
          "base_uri": "https://localhost:8080/",
          "height": 34
        },
        "outputId": "57501d88-2b44-4315-f175-2b0ca9e04e90"
      },
      "source": [
        "gtc_covid.shape"
      ],
      "execution_count": 86,
      "outputs": [
        {
          "output_type": "execute_result",
          "data": {
            "text/plain": [
              "(4237, 13)"
            ]
          },
          "metadata": {
            "tags": []
          },
          "execution_count": 86
        }
      ]
    },
    {
      "cell_type": "code",
      "metadata": {
        "id": "Df7wfLOD5KfX",
        "colab_type": "code",
        "colab": {
          "base_uri": "https://localhost:8080/",
          "height": 34
        },
        "outputId": "4f5045f0-4168-44f5-b7ec-b8fb7182368c"
      },
      "source": [
        "gtc_todos.shape"
      ],
      "execution_count": 87,
      "outputs": [
        {
          "output_type": "execute_result",
          "data": {
            "text/plain": [
              "(60977, 23)"
            ]
          },
          "metadata": {
            "tags": []
          },
          "execution_count": 87
        }
      ]
    },
    {
      "cell_type": "code",
      "metadata": {
        "id": "cCyWWow75Kfb",
        "colab_type": "code",
        "colab": {
          "base_uri": "https://localhost:8080/",
          "height": 374
        },
        "outputId": "f56b8f0d-b91a-4762-e3f6-997de912c717"
      },
      "source": [
        "gtc_covid.info()"
      ],
      "execution_count": 83,
      "outputs": [
        {
          "output_type": "stream",
          "text": [
            "<class 'pandas.core.frame.DataFrame'>\n",
            "RangeIndex: 4237 entries, 0 to 4236\n",
            "Data columns (total 14 columns):\n",
            " #   Column             Non-Null Count  Dtype         \n",
            "---  ------             --------------  -----         \n",
            " 0   FILA               4237 non-null   int64         \n",
            " 1   NOG_CONCURSO       4237 non-null   int64         \n",
            " 2   FECHA_PUBLICACION  4237 non-null   datetime64[ns]\n",
            " 3   FECHA_LIMITE       4237 non-null   datetime64[ns]\n",
            " 4   TIPO_CONCURSO      4237 non-null   object        \n",
            " 5   ESTATUS_CONCURSO   4237 non-null   object        \n",
            " 6   NOMBRE_ENTIDAD     4237 non-null   object        \n",
            " 7   NOMBRE_UNIDAD      4237 non-null   object        \n",
            " 8   TITULO_NOG         4237 non-null   object        \n",
            " 9   NOMBRE_MODALIDAD   4237 non-null   object        \n",
            " 10  MONTO              4237 non-null   float64       \n",
            " 11  CANTIDAD           4237 non-null   int64         \n",
            " 12  CATEGORIA          4237 non-null   object        \n",
            " 13  NUMERO_DOCUMENTO   4237 non-null   object        \n",
            "dtypes: datetime64[ns](2), float64(1), int64(3), object(8)\n",
            "memory usage: 463.5+ KB\n"
          ],
          "name": "stdout"
        }
      ]
    },
    {
      "cell_type": "code",
      "metadata": {
        "id": "oZQ1Kswy5Kfe",
        "colab_type": "code",
        "colab": {
          "base_uri": "https://localhost:8080/",
          "height": 544
        },
        "outputId": "a228e901-b7e4-44f4-ad96-896251a70529"
      },
      "source": [
        "gtc_todos.info()"
      ],
      "execution_count": 84,
      "outputs": [
        {
          "output_type": "stream",
          "text": [
            "<class 'pandas.core.frame.DataFrame'>\n",
            "RangeIndex: 60977 entries, 0 to 60976\n",
            "Data columns (total 24 columns):\n",
            " #   Column                          Non-Null Count  Dtype         \n",
            "---  ------                          --------------  -----         \n",
            " 0   NO                              60977 non-null  int64         \n",
            " 1   TIPO DE ENTIDAD PADRE           60977 non-null  object        \n",
            " 2   TIPO DE ENTIDAD                 60977 non-null  object        \n",
            " 3   ENTIDAD COMPRADORA              60977 non-null  object        \n",
            " 4   UNIDAD COMPRADORA               60977 non-null  object        \n",
            " 5   NOG CONCURSO                    60977 non-null  int64         \n",
            " 6   DESCRIPCIÓN                     60977 non-null  object        \n",
            " 7   MODALIDAD                       60977 non-null  object        \n",
            " 8   SUB MODALIDAD                   5837 non-null   object        \n",
            " 9   NIT                             60262 non-null  object        \n",
            " 10  NOMBRE                          60262 non-null  object        \n",
            " 11  MONTO                           60977 non-null  float64       \n",
            " 12  FECHA DE PUBLICACIÓN            60977 non-null  datetime64[ns]\n",
            " 13  MES DE PUBLICACIÓN              60977 non-null  object        \n",
            " 14  AÑO DE PUBLICACIÓN              60977 non-null  int64         \n",
            " 15  FECHA DE ULTIMA ADJUDICACIÓN    60977 non-null  datetime64[ns]\n",
            " 16  FECHA DE ADJUDICACIÓN           60977 non-null  datetime64[ns]\n",
            " 17  MES DE ADJUDICACIÓN             60977 non-null  object        \n",
            " 18  AÑO DE ADJUDICACIÓN             60977 non-null  int64         \n",
            " 19  CATEGORÍAS                      60977 non-null  object        \n",
            " 20  ESTATUS DEL CONCURSO            60977 non-null  object        \n",
            " 21  FECHA CIERRE RECEPCIÓN OFERTAS  60977 non-null  datetime64[ns]\n",
            " 22  MES DE CIERRE RECEPCIÓN         60977 non-null  object        \n",
            " 23  AÑO DE CIERRE RECEPCIÓN         60977 non-null  int64         \n",
            "dtypes: datetime64[ns](4), float64(1), int64(5), object(14)\n",
            "memory usage: 11.2+ MB\n"
          ],
          "name": "stdout"
        }
      ]
    },
    {
      "cell_type": "markdown",
      "metadata": {
        "id": "Jn-hzaJE5Kfh",
        "colab_type": "text"
      },
      "source": [
        "El archivo **gtc_todos** contiene los datos de adjudicación de concursos, mientras que el **gtc_covid**, tiene información básica sin información de la adjudicación. Suponiendo que **gtc_todos** contiene a **gtc_covid**, hacemos un subset de todos con los datos de covid, haciendo un match por NOG (Número de operación de Guatecompras) "
      ]
    },
    {
      "cell_type": "code",
      "metadata": {
        "id": "qbg0-Tyb5Kfi",
        "colab_type": "code",
        "colab": {}
      },
      "source": [
        "resultado = gtc_todos[gtc_todos[\"NOG CONCURSO\"].isin(gtc_covid[\"NOG_CONCURSO\"])]"
      ],
      "execution_count": null,
      "outputs": []
    },
    {
      "cell_type": "code",
      "metadata": {
        "id": "tNfFfi6r5Kfm",
        "colab_type": "code",
        "colab": {
          "base_uri": "https://localhost:8080/",
          "height": 527
        },
        "outputId": "4c4a8605-a833-4d1b-effc-f14d414f7b72"
      },
      "source": [
        "resultado.info()"
      ],
      "execution_count": null,
      "outputs": [
        {
          "output_type": "stream",
          "text": [
            "<class 'pandas.core.frame.DataFrame'>\n",
            "Int64Index: 4819 entries, 27769 to 60931\n",
            "Data columns (total 23 columns):\n",
            " #   Column                          Non-Null Count  Dtype         \n",
            "---  ------                          --------------  -----         \n",
            " 0   TIPO DE ENTIDAD PADRE           4819 non-null   object        \n",
            " 1   TIPO DE ENTIDAD                 4819 non-null   object        \n",
            " 2   ENTIDAD COMPRADORA              4819 non-null   object        \n",
            " 3   UNIDAD COMPRADORA               4819 non-null   object        \n",
            " 4   NOG CONCURSO                    4819 non-null   int64         \n",
            " 5   DESCRIPCIÓN                     4819 non-null   object        \n",
            " 6   MODALIDAD                       4819 non-null   object        \n",
            " 7   SUB MODALIDAD                   4486 non-null   object        \n",
            " 8   NIT                             4819 non-null   object        \n",
            " 9   NOMBRE                          4819 non-null   object        \n",
            " 10  MONTO                           4819 non-null   float64       \n",
            " 11  FECHA DE PUBLICACIÓN            4819 non-null   datetime64[ns]\n",
            " 12  MES DE PUBLICACIÓN              4819 non-null   object        \n",
            " 13  AÑO DE PUBLICACIÓN              4819 non-null   int64         \n",
            " 14  FECHA DE ULTIMA ADJUDICACIÓN    4819 non-null   datetime64[ns]\n",
            " 15  FECHA DE ADJUDICACIÓN           4819 non-null   datetime64[ns]\n",
            " 16  MES DE ADJUDICACIÓN             4819 non-null   object        \n",
            " 17  AÑO DE ADJUDICACIÓN             4819 non-null   int64         \n",
            " 18  CATEGORÍAS                      4819 non-null   object        \n",
            " 19  ESTATUS DEL CONCURSO            4819 non-null   object        \n",
            " 20  FECHA CIERRE RECEPCIÓN OFERTAS  4819 non-null   datetime64[ns]\n",
            " 21  MES DE CIERRE RECEPCIÓN         4819 non-null   object        \n",
            " 22  AÑO DE CIERRE RECEPCIÓN         4819 non-null   int64         \n",
            "dtypes: datetime64[ns](4), float64(1), int64(4), object(14)\n",
            "memory usage: 903.6+ KB\n"
          ],
          "name": "stdout"
        }
      ]
    },
    {
      "cell_type": "code",
      "metadata": {
        "id": "o-8ahFQ15Kfp",
        "colab_type": "code",
        "colab": {
          "base_uri": "https://localhost:8080/",
          "height": 425
        },
        "outputId": "ad207c3d-f8ce-40d8-dd27-32d77868ddb7"
      },
      "source": [
        "#resultado.to_excel(\"salidaFinal.xlsx\")\n",
        "resultado.nunique()"
      ],
      "execution_count": null,
      "outputs": [
        {
          "output_type": "execute_result",
          "data": {
            "text/plain": [
              "TIPO DE ENTIDAD PADRE                2\n",
              "TIPO DE ENTIDAD                      5\n",
              "ENTIDAD COMPRADORA                 164\n",
              "UNIDAD COMPRADORA                  274\n",
              "NOG CONCURSO                      4224\n",
              "DESCRIPCIÓN                       4138\n",
              "MODALIDAD                            4\n",
              "SUB MODALIDAD                        1\n",
              "NIT                                736\n",
              "NOMBRE                             736\n",
              "MONTO                             2664\n",
              "FECHA DE PUBLICACIÓN                90\n",
              "MES DE PUBLICACIÓN                   4\n",
              "AÑO DE PUBLICACIÓN                   1\n",
              "FECHA DE ULTIMA ADJUDICACIÓN        86\n",
              "FECHA DE ADJUDICACIÓN               86\n",
              "MES DE ADJUDICACIÓN                  4\n",
              "AÑO DE ADJUDICACIÓN                  1\n",
              "CATEGORÍAS                          90\n",
              "ESTATUS DEL CONCURSO                 1\n",
              "FECHA CIERRE RECEPCIÓN OFERTAS    1373\n",
              "MES DE CIERRE RECEPCIÓN              4\n",
              "AÑO DE CIERRE RECEPCIÓN              1\n",
              "dtype: int64"
            ]
          },
          "metadata": {
            "tags": []
          },
          "execution_count": 11
        }
      ]
    },
    {
      "cell_type": "markdown",
      "metadata": {
        "id": "IDNzdHpR5Kfs",
        "colab_type": "text"
      },
      "source": [
        "### Del listado anterior, donde totalizamos los valores únicos por cada columna, vemos varias cosas:\n",
        "\n",
        "1. Hay varios campos con valores únicos, candidatos eliminarse para el análisis futuro\n",
        "2. Hay algunas tipificaciones por Tipo de Entidad por analizar\n",
        "3. Hay 164 entidades compradoras y 274 unidades compradoras, ambas a niveles distintos.\n",
        "4. Hay más filas que concursos, ya que un concurso puede adjudicarse a más de un proveedor\n",
        "5. Hay 4 modalidades de compra, todas relacionadas con la emergencia del COVID19\n",
        "6. Hay 90 distintas categorías, que luego analizaremos\n",
        "7. Al haber fecha de recepción de ofertas, puede analizarse el tiempo en el que cada concurso estuvo abierto, y poder detectar anomalías."
      ]
    },
    {
      "cell_type": "code",
      "metadata": {
        "id": "HOqDPJFh5Kfv",
        "colab_type": "code",
        "colab": {},
        "outputId": "29ea2163-2813-473b-c14a-b5736f3c27e2"
      },
      "source": [
        "resultado[\"MODALIDAD\"].value_counts()"
      ],
      "execution_count": null,
      "outputs": [
        {
          "output_type": "execute_result",
          "data": {
            "text/plain": [
              "Procedimientos Regulados por el artículo 44 LCE (Casos de Excepción)    4486\n",
              "Compra Directa con Oferta Electrónica (Art. 43 LCE Inciso b)             258\n",
              "Compra Directa con Oferta Electrónica Ley de Emergencia COVID19           72\n",
              "Cotización (Art. 38 LCE)                                                   3\n",
              "Name: MODALIDAD, dtype: int64"
            ]
          },
          "metadata": {
            "tags": []
          },
          "execution_count": 39
        }
      ]
    },
    {
      "cell_type": "code",
      "metadata": {
        "id": "gWCpT1xi5Kfy",
        "colab_type": "code",
        "colab": {},
        "outputId": "0d6e210c-3fe7-4e18-a9d6-556109314394"
      },
      "source": [
        "resultado[[\"MODALIDAD\", \"SUB MODALIDAD\"]].nunique()"
      ],
      "execution_count": null,
      "outputs": [
        {
          "output_type": "execute_result",
          "data": {
            "text/plain": [
              "MODALIDAD        4\n",
              "SUB MODALIDAD    1\n",
              "dtype: int64"
            ]
          },
          "metadata": {
            "tags": []
          },
          "execution_count": 46
        }
      ]
    },
    {
      "cell_type": "code",
      "metadata": {
        "id": "iVUe35uu5Kf1",
        "colab_type": "code",
        "colab": {},
        "outputId": "b03dd619-75e8-4f66-d242-480a5b2826d0"
      },
      "source": [
        "resultado[\"TIPO DE ENTIDAD PADRE\"].value_counts()"
      ],
      "execution_count": null,
      "outputs": [
        {
          "output_type": "execute_result",
          "data": {
            "text/plain": [
              "Sector Público                    4813\n",
              "Fideicomisos y otras entidades       6\n",
              "Name: TIPO DE ENTIDAD PADRE, dtype: int64"
            ]
          },
          "metadata": {
            "tags": []
          },
          "execution_count": 50
        }
      ]
    },
    {
      "cell_type": "code",
      "metadata": {
        "id": "tF-6n-695Kf4",
        "colab_type": "code",
        "colab": {},
        "outputId": "3385920f-3266-4f8e-c203-2dc3e13b4d65"
      },
      "source": [
        "resultado[\"TIPO DE ENTIDAD\"].value_counts()"
      ],
      "execution_count": null,
      "outputs": [
        {
          "output_type": "execute_result",
          "data": {
            "text/plain": [
              "Administración Central                                         3042\n",
              "Entidades Descentralizadas, Autónomas y de Seguridad Social    1490\n",
              "Gobiernos Locales (Municipalidades, Mancomunidades, etc.)       270\n",
              "Empresas Públicas (Nacionales y Municipales)                     11\n",
              "ONG's, patronatos, comités, asociaciones y fundaciones            6\n",
              "Name: TIPO DE ENTIDAD, dtype: int64"
            ]
          },
          "metadata": {
            "tags": []
          },
          "execution_count": 51
        }
      ]
    },
    {
      "cell_type": "code",
      "metadata": {
        "id": "Pmgp3tRu5Kf7",
        "colab_type": "code",
        "colab": {}
      },
      "source": [
        "columnas_eliminar=[\"AÑO DE PUBLICACIÓN\", \"AÑO DE ADJUDICACIÓN\", \"AÑO DE CIERRE RECEPCIÓN\", \"MES DE PUBLICACIÓN\", \"MES DE ADJUDICACIÓN\", \"MES DE CIERRE RECEPCIÓN\", \"ESTATUS DEL CONCURSO\"]\n",
        "result_red = resultado.drop(axis=1,labels=columnas_eliminar)"
      ],
      "execution_count": 65,
      "outputs": []
    },
    {
      "cell_type": "code",
      "metadata": {
        "id": "vknatadk5Kf-",
        "colab_type": "code",
        "colab": {
          "base_uri": "https://localhost:8080/",
          "height": 68
        },
        "outputId": "f2de48d6-28f4-4451-d422-e5d67c9a4e76"
      },
      "source": [
        "print(\"Promedio del monto: Q. % 8.2f\" % result_red.MONTO.mean())\n",
        "print(\"Máximo del monto: Q. % 8.2f\" % result_red.MONTO.max())\n",
        "print(\"Mínimo del monto: Q. % 8.2f\" % result_red.MONTO.min())"
      ],
      "execution_count": null,
      "outputs": [
        {
          "output_type": "stream",
          "text": [
            "Promedio del monto: Q.  115304.34\n",
            "Máximo del monto: Q.  20224512.00\n",
            "Mínimo del monto: Q.    40.00\n"
          ],
          "name": "stdout"
        }
      ]
    },
    {
      "cell_type": "code",
      "metadata": {
        "id": "V66HvEaA5KgB",
        "colab_type": "code",
        "colab": {
          "base_uri": "https://localhost:8080/",
          "height": 51
        },
        "outputId": "b103487a-8674-4d10-b03c-72284a14bef6"
      },
      "source": [
        "print(\"Mínimo de la fecha:\" , result_red[\"FECHA DE ADJUDICACIÓN\"].min())\n",
        "print(\"Máximo de la fecha:\" , result_red[\"FECHA DE ADJUDICACIÓN\"].max())"
      ],
      "execution_count": null,
      "outputs": [
        {
          "output_type": "stream",
          "text": [
            "Mínimo de la fecha: 2020-03-13 00:00:00\n",
            "Máximo de la fecha: 2020-06-19 00:00:00\n"
          ],
          "name": "stdout"
        }
      ]
    },
    {
      "cell_type": "markdown",
      "metadata": {
        "id": "rJc2vigiMJ5b",
        "colab_type": "text"
      },
      "source": [
        "## 20 proveedores con más adjudicaciones"
      ]
    },
    {
      "cell_type": "code",
      "metadata": {
        "id": "Rtw69LPTh3z-",
        "colab_type": "code",
        "colab": {
          "base_uri": "https://localhost:8080/",
          "height": 391
        },
        "outputId": "c355794e-a1ba-4bdb-a0c9-518ab356626b"
      },
      "source": [
        "top_20_NIT_cant = result_red.NIT.value_counts().head(20)\n",
        "lista_top_20 = result_red.loc[result_red[\"NIT\"].isin(top_20_NIT_cant.index)][[\"NOMBRE\",\"NIT\"]].drop_duplicates()\n",
        "print(lista_top_20)"
      ],
      "execution_count": 109,
      "outputs": [
        {
          "output_type": "stream",
          "text": [
            "                                                  NOMBRE        NIT\n",
            "NO                                                                 \n",
            "27769  COMPAÑIA DE EQUIPO MEDICO-HOSPITALARIO, SOCIED...    4556984\n",
            "29374             PRODUCTOS SANITARIOS, SOCIEDAD ANONIMA   41274989\n",
            "29375                      SOLIS,GONZALEZ,,JORGE,ALFREDO    2937913\n",
            "33528             LABORATORIO RUIPHARMA SOCIEDAD ANONIMA    5490421\n",
            "33530  SERVICIO DE COMERCIO INTERNACIONAL SOCIEDAD AN...   22339655\n",
            "33532  DROGUERIA Y DISTRIBUIDORA PHARMAR, SOCIEDAD AN...   93752180\n",
            "33631                          LABYMED, SOCIEDAD ANONIMA   30428378\n",
            "34045  ASESORIA EN RECURSOS OCUPACIONALES, SOCIEDAD A...  100737080\n",
            "34320  EQUIPOS PARA HOSPITALES Y MEDICINAS, SOCIEDAD ...    656058K\n",
            "34321                DROGUERIA REFASA , SOCIEDAD ANONIMA    1204076\n",
            "34416        NUEVOS ETICOS NEOETHICALS, SOCIEDAD ANONIMA   39796558\n",
            "34592                    RODRÍGUEZ,LÓPEZ,,VAYRON,RONALDO   26691035\n",
            "34628              ACEITUNO,RUBIO,JIMENEZ,JENY,BETHZAIDA    8163294\n",
            "34976          SUPLIDORA HOSPITALARIA, SOCIEDAD ANONIMA.   2475546K\n",
            "35254                          OXI-RENT SOCIEDAD ANONIMA   12511862\n",
            "35763             SERVICIOS QUIRURGICOS SOCIEDAD ANONIMA    5801338\n",
            "36395  PRODUCTOS DEL AIRE DE GUATEMALA, SOCIEDAD ANONIMA    8372977\n",
            "37407                  DIAZ,VIDAL,,ANGEL,DIMITRI ROBERTO   65769635\n",
            "37950         PRODUCTOS ROCHE GUATEMALA SOCIEDAD ANONIMA    1700510\n",
            "39070                            SIPRO, SOCIEDAD ANONIMA   65730461\n"
          ],
          "name": "stdout"
        }
      ]
    },
    {
      "cell_type": "markdown",
      "metadata": {
        "id": "UnpqfIxigiGa",
        "colab_type": "text"
      },
      "source": [
        "## Top 20 de los proveedores en base al Monto\n",
        "\n"
      ]
    },
    {
      "cell_type": "code",
      "metadata": {
        "id": "puj7IkzNaxIE",
        "colab_type": "code",
        "colab": {
          "base_uri": "https://localhost:8080/",
          "height": 391
        },
        "outputId": "54c1c9e2-d67c-4820-d020-8cc024e666c8"
      },
      "source": [
        "nit_monto = result_red.groupby([\"NIT\", \"NOMBRE\"])\n",
        "print(nit_monto.MONTO.sum().sort_values(ascending=False).head(20))"
      ],
      "execution_count": 126,
      "outputs": [
        {
          "output_type": "stream",
          "text": [
            "NIT       NOMBRE                                                     \n",
            "30428378  LABYMED, SOCIEDAD ANONIMA                                      42139448.65\n",
            "1700510   PRODUCTOS ROCHE GUATEMALA SOCIEDAD ANONIMA                     33220952.00\n",
            "79839665  DISGUA DISTRIBUIDORA GUATEMALTECA, SOCIEDAD ANONIMA            22437500.00\n",
            "84449497  BIOLOGICOS Y FARMACEUTICOS, SOCIEDAD ANONIMA                   21423233.88\n",
            "12511862  OXI-RENT SOCIEDAD ANONIMA                                      20618674.31\n",
            "22345388  J.I. COHEN, SOCIEDAD ANONIMA                                   19519747.35\n",
            "31360831  VICLASA, SOCIEDAD ANONIMA                                      13062357.00\n",
            "4556984   COMPAÑIA DE EQUIPO MEDICO-HOSPITALARIO, SOCIEDAD ANONIMA       12347737.53\n",
            "82882363  SEIJIRO YAZAWA IWAI GUATEMALA SOCIEDAD ANONIMA                 10386925.00\n",
            "53891236  QUALITY GROUP, SOCIEDAD ANONIMA                                 7702586.31\n",
            "39254224  CETO,CETO,,MATEA,ENGRACIA                                       7564400.00\n",
            "7477279   AGENCIA FARMACEUTICA INTERNACIONAL SOCIEDAD ANONIMA             6789054.52\n",
            "5750814   CARGO EXPRESO, SOCIEDAD ANONIMA                                 6711032.00\n",
            "93269846  EQUIPOS Y PRODUCTOS DE LABORATORIO, SOCIEDAD ANONIMA            6037146.20\n",
            "22686991  DIAGNOSTIKA CAPRIS SOCIEDAD ANONIMA                             5828954.00\n",
            "575461    PRODUCTIVE BUSINESS SOLUTIONS (GUATEMALA), SOCIEDAD ANONIMA     5731558.00\n",
            "1328964   OPERADORA GUATEMALTECA DE SERVICIOS, SOCIEDAD ANONIMA           5678208.00\n",
            "26691035  RODRÍGUEZ,LÓPEZ,,VAYRON,RONALDO                                 5316863.00\n",
            "41274989  PRODUCTOS SANITARIOS, SOCIEDAD ANONIMA                          5278985.60\n",
            "84539534  OPERADORA BILTMORE, SOCIEDAD ANONIMA                            4707401.00\n",
            "Name: MONTO, dtype: float64\n"
          ],
          "name": "stdout"
        }
      ]
    },
    {
      "cell_type": "markdown",
      "metadata": {
        "id": "taiUwag6kQem",
        "colab_type": "text"
      },
      "source": [
        "## Top 20 concursos con mayores montos"
      ]
    },
    {
      "cell_type": "code",
      "metadata": {
        "id": "OnLrTJPHNln2",
        "colab_type": "code",
        "colab": {
          "base_uri": "https://localhost:8080/",
          "height": 411
        },
        "outputId": "e2739e3c-8b2f-485e-a638-6b3d42fec7ea"
      },
      "source": [
        "nog_monto = result_red.groupby([\"NOG CONCURSO\", \"DESCRIPCIÓN\"])\n",
        "print(nog_monto.MONTO.sum().sort_values(ascending=False).head(20))\n",
        "\n"
      ],
      "execution_count": 129,
      "outputs": [
        {
          "output_type": "stream",
          "text": [
            "NOG CONCURSO  DESCRIPCIÓN                                                                                                                                                                                                                                                                                                     \n",
            "12330671      ADQUISICIÓN DE EQUIPO DE VENTILACION MECANICA Y ANESTESIA REQUERIDO POR EL INSTITUTO GUATEMALTECO DE SEGURIDAD SOCIAL (ESTADO DE EXCEPCIÓN 5-2020 COVID-19) LISTADO No. 18/2020\\n\\n                                                                                                                                 29130000.00\n",
            "12275344      ADQUISICIÓN DE VARIOS MEDICAMENTOS REQUERIDOS POR DISTINTAS UNIDADES MÉDICAS DEL INSTITUTO GUATEMALTECO DE SEGURIDAD SOCIAL (ESTADO DE EXCEPCIÓN 5-2020 COVID-19) LISTADO No. 03/2020                                                                                                                               25466989.72\n",
            "12289418      ADQUISICIÓN DE VARIOS PRODUCTOS DE MATERIAL MÉDICO QUIRÚRGICO MENOR REQUERIDOS POR DISTINTAS UNIDADES MÉDICAS DEL INSTITUTO GUATEMALTECO DE SEGURIDAD SOCIAL (ESTADO DE EXCEPCIÓN 5-2020 COVID-19) LISTADO No. 05/2020.                                                                                             20290287.24\n",
            "12568805      MSPAS No. 2020-LAB-CE007 Adquisición de kit de ensayo para detección de sars-covid-2 para uso del Laboratorio Nacional de Salud                                                                                                                                                                                     20224512.00\n",
            "12594652      SERVICIO DE HOTELERÍA PARA ALBERGAR A PACIENTES LEVES O ASINTOMÁTICOS QUE RESULTEN POSITIVOS A COVID-19 EN EL ÁREA METROPOLITANA                                                                                                                                                                                    13062357.00\n",
            "12603988      SERVICIO DE HOTELERÍA PARA ALBERGAR A PACIENTES LEVES O ASINTOMÁTICOS QUE RESULTEN POSITIVOS A COVID-19 EN EL ÁREA METROPOLITANA                                                                                                                                                                                    10385609.00\n",
            "12329398      ADQUISICIÓN DE EQUIPO DE IMÁGENES MÉDICAS Y ACCESORIOS REQUERIDO POR EL INSTITUTO GUATEMALTECO DE SEGURIDAD SOCIAL (ESTADO DE EXCEPCIÓN 5-2020 COVID-19) LISTADO No. 14/2020                                                                                                                                         9975308.00\n",
            "12542415      ADQUISICIÓN DE PRUEBAS DE DETECCIÓN SIMULTÁNEA DE PATÓGENOS RESPIRATORIOS, PARA EL HOSPITAL DE SAN BENITO.                                                                                                                                                                                                           8700000.00\n",
            "12291056      ADQUISICIÓN DE EQUIPO DE IMAGENOLOGÍA PARA EL HOSPITAL NACIONAL ESPECIALIZADO DE VILLA NUEVA                                                                                                                                                                                                                         8021710.00\n",
            "12275417      ADQUISICIÓN DE VARIOS MEDICAMENTOS REQUERIDOS POR DISTINTAS UNIDADES MÉDICAS DEL INSTITUTO GUATEMALTECO DE SEGURIDAD SOCIAL (ESTADO DE EXCEPCIÓN 5-2020 COVID-19) LISTADO No. 04/2020                                                                                                                                7261932.24\n",
            "12729639      CONTRATACIÓN DE SERVICIOS DE IMPRESIÓN Y SERVICIOS CONEXOS DE LINEAMIENTOS PARA SEMINARIO, PRÁCTICA DOCENTE Y SUPERVISADA, USO DE LOS LIBROS PARA PREPRIMARIA, 1º y 2º PRIMARIA, GUÍAS DE AUTOAPRENDIZAJE PARA ESTUDIANTES DE 3º, 4º, 5º y 6º PRIMARIA, CICLO BÁSICO Y DIVERSIFICADO, A SOLICITUD DE LA DIGECADE     7241243.48\n",
            "12267031      ADQUISICIÓN DE VARIOS MEDICAMENTOS REQUERIDOS POR DISTINTAS UNIDADES MÉDICAS DEL INSTITUTO GUATEMALTECO DE SEGURIDAD SOCIAL (ESTADO DE EXCEPCIÓN 5-2020 COVID-19)                                                                                                                                                    6537290.20\n",
            "12281123      TÉRMINOS DE REFERENCIA PARA LA CONTRATACIÓN DEL SERVICIO DE COURIER DE MEDICAMENTOS                                                                                                                                                                                                                                  6522312.00\n",
            "12604216      ADQUISICIÓN DE PRUEBAS PARA DETECCIÓN DE CORONAVIRUS SARS-COV2, REACCIÓN EN CADENA DE LA POLIMERASA (PCR) Y PRUEBA PARA DETECCIÓN SIMULTÁNEA DE PATÓGENOS RESPIRATORIOS PARA EL HOSPITAL REGIONAL DE COBÁN                                                                                                           6168000.00\n",
            "12575666      SERVICIO DE HOTELERÍA PARA ALBERGAR A PERSONAL DE SALUD A CARGO DE LA ATENCIÓN DE LA EMERGENCIA COVID-19 EN EL ÁREA METROPOLITANA                                                                                                                                                                                    4625550.00\n",
            "12552143      SERVICIO DE HOTELERÍA PARA ALBERGAR A PACIENTES LEVES O ASINTOMÁTICOS POSITIVOS A COVID-19 EN EL ÁREA METROPOLITANA\\n                                                                                                                                                                                                4491000.00\n",
            "12670936      ADQUSICIÓN DE MEZCLA DE ARROZ Y VEGETALES SABOR CARNE, MEZCLA DE ARROZ Y VEGETALES SABOR POLLO, MEZCLA DE ARROZ Y VEGETALES SABOR A CHORIZO, MEZCLA DE ARROZ CON FRIJOLES NEGROS SABOR A CHORIZO, PARA ANTENDER A PERSONAS O FAMILIAS AFECTAS POR EL VIRUS IDENTIFICADO COMO COVID-19.                               3840000.00\n",
            "12565466      ADQUISICIÓN DE VENTILADORES MECANICOS PULMONARES                                                                                                                                                                                                                                                                     3300000.00\n",
            "12315192      SERVICIO DE ACTIVACIÓN PARA CONSERVAR EL POZO UBICADO EN EL ANEXO A LOMAS DE PORTUGAL ZONA 1 DE MIXCO                                                                                                                                                                                                                3285815.92\n",
            "12616567      Adquisicion Equipo de Proteccion y Mantenimiento de Equipo Especial                                                                                                                                                                                                                                                  3250000.00\n",
            "Name: MONTO, dtype: float64\n"
          ],
          "name": "stdout"
        }
      ]
    }
  ]
}