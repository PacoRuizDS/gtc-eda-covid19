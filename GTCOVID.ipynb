{
 "cells": [
  {
   "cell_type": "markdown",
   "metadata": {},
   "source": [
    "# Importando librerías para el análisis exploratorio de los datos.\n",
    "\n",
    "### pandas y seaborn, librerías que ayudarán al análisis exploratorio gráfico y manipulación de datos"
   ]
  },
  {
   "cell_type": "code",
   "execution_count": 1,
   "metadata": {},
   "outputs": [],
   "source": [
    "import pandas as pd\n",
    "import seaborn as sns"
   ]
  },
  {
   "cell_type": "markdown",
   "metadata": {},
   "source": [
    "# Cargando los datos descargados en formato Excel"
   ]
  },
  {
   "cell_type": "code",
   "execution_count": 11,
   "metadata": {},
   "outputs": [],
   "source": [
    "gtc_covid = pd.read_excel(\"/Users/PacoRuiz/Downloads/concursos-terminados-adjudicados-al-amparo-de-la-emergecia-covid19.xlsx\", header=\"infer\", index_col=0, parse_dates=True)\n",
    "gtc_todos = pd.read_excel(\"/Users/PacoRuiz/Downloads/concursos-publicados-2020-adjudicado.xlsx\", header=\"infer\",index_col=0,parse_dates=True)"
   ]
  },
  {
   "cell_type": "code",
   "execution_count": 12,
   "metadata": {},
   "outputs": [
    {
     "data": {
      "text/plain": [
       "(4237, 13)"
      ]
     },
     "execution_count": 12,
     "metadata": {},
     "output_type": "execute_result"
    }
   ],
   "source": [
    "gtc_covid.shape"
   ]
  },
  {
   "cell_type": "code",
   "execution_count": 13,
   "metadata": {},
   "outputs": [
    {
     "data": {
      "text/plain": [
       "(60977, 23)"
      ]
     },
     "execution_count": 13,
     "metadata": {},
     "output_type": "execute_result"
    }
   ],
   "source": [
    "gtc_todos.shape"
   ]
  },
  {
   "cell_type": "code",
   "execution_count": 14,
   "metadata": {},
   "outputs": [
    {
     "name": "stdout",
     "output_type": "stream",
     "text": [
      "<class 'pandas.core.frame.DataFrame'>\n",
      "Int64Index: 4237 entries, 1 to 4237\n",
      "Data columns (total 13 columns):\n",
      "NOG_CONCURSO         4237 non-null int64\n",
      "FECHA_PUBLICACION    4237 non-null datetime64[ns]\n",
      "FECHA_LIMITE         4237 non-null datetime64[ns]\n",
      "TIPO_CONCURSO        4237 non-null object\n",
      "ESTATUS_CONCURSO     4237 non-null object\n",
      "NOMBRE_ENTIDAD       4237 non-null object\n",
      "NOMBRE_UNIDAD        4237 non-null object\n",
      "TITULO_NOG           4237 non-null object\n",
      "NOMBRE_MODALIDAD     4237 non-null object\n",
      "MONTO                4237 non-null float64\n",
      "CANTIDAD             4237 non-null int64\n",
      "CATEGORIA            4237 non-null object\n",
      "NUMERO_DOCUMENTO     4237 non-null object\n",
      "dtypes: datetime64[ns](2), float64(1), int64(2), object(8)\n",
      "memory usage: 463.4+ KB\n"
     ]
    }
   ],
   "source": [
    "gtc_covid.info()"
   ]
  },
  {
   "cell_type": "code",
   "execution_count": 15,
   "metadata": {},
   "outputs": [
    {
     "name": "stdout",
     "output_type": "stream",
     "text": [
      "<class 'pandas.core.frame.DataFrame'>\n",
      "Int64Index: 60977 entries, 1 to 60977\n",
      "Data columns (total 23 columns):\n",
      "TIPO DE ENTIDAD PADRE             60977 non-null object\n",
      "TIPO DE ENTIDAD                   60977 non-null object\n",
      "ENTIDAD COMPRADORA                60977 non-null object\n",
      "UNIDAD COMPRADORA                 60977 non-null object\n",
      "NOG CONCURSO                      60977 non-null int64\n",
      "DESCRIPCIÓN                       60977 non-null object\n",
      "MODALIDAD                         60977 non-null object\n",
      "SUB MODALIDAD                     5837 non-null object\n",
      "NIT                               60262 non-null object\n",
      "NOMBRE                            60262 non-null object\n",
      "MONTO                             60977 non-null float64\n",
      "FECHA DE PUBLICACIÓN              60977 non-null datetime64[ns]\n",
      "MES DE PUBLICACIÓN                60977 non-null object\n",
      "AÑO DE PUBLICACIÓN                60977 non-null int64\n",
      "FECHA DE ULTIMA ADJUDICACIÓN      60977 non-null datetime64[ns]\n",
      "FECHA DE ADJUDICACIÓN             60977 non-null datetime64[ns]\n",
      "MES DE ADJUDICACIÓN               60977 non-null object\n",
      "AÑO DE ADJUDICACIÓN               60977 non-null int64\n",
      "CATEGORÍAS                        60977 non-null object\n",
      "ESTATUS DEL CONCURSO              60977 non-null object\n",
      "FECHA CIERRE RECEPCIÓN OFERTAS    60977 non-null datetime64[ns]\n",
      "MES DE CIERRE RECEPCIÓN           60977 non-null object\n",
      "AÑO DE CIERRE RECEPCIÓN           60977 non-null int64\n",
      "dtypes: datetime64[ns](4), float64(1), int64(4), object(14)\n",
      "memory usage: 11.2+ MB\n"
     ]
    }
   ],
   "source": [
    "gtc_todos.info()"
   ]
  },
  {
   "cell_type": "markdown",
   "metadata": {},
   "source": [
    "## El archivo #gtc_todos contiene los datos de adjudicación de concursos, mientras que el #gtc_covid, tiene información básica.  Suponiendo que todos contiene a covid, hacemos un subset de todos con los datos de covid, haciendo un match por NOG (Número de operación de Guatecompras) "
   ]
  },
  {
   "cell_type": "code",
   "execution_count": 8,
   "metadata": {},
   "outputs": [],
   "source": [
    "resultado = gtc_todos[gtc_todos[\"NOG CONCURSO\"].isin(gtc_covid[\"NOG_CONCURSO\"])]"
   ]
  },
  {
   "cell_type": "code",
   "execution_count": 9,
   "metadata": {},
   "outputs": [
    {
     "name": "stdout",
     "output_type": "stream",
     "text": [
      "<class 'pandas.core.frame.DataFrame'>\n",
      "Int64Index: 4819 entries, 27768 to 60930\n",
      "Data columns (total 24 columns):\n",
      "NO                                4819 non-null int64\n",
      "TIPO DE ENTIDAD PADRE             4819 non-null object\n",
      "TIPO DE ENTIDAD                   4819 non-null object\n",
      "ENTIDAD COMPRADORA                4819 non-null object\n",
      "UNIDAD COMPRADORA                 4819 non-null object\n",
      "NOG CONCURSO                      4819 non-null int64\n",
      "DESCRIPCIÓN                       4819 non-null object\n",
      "MODALIDAD                         4819 non-null object\n",
      "SUB MODALIDAD                     4486 non-null object\n",
      "NIT                               4819 non-null object\n",
      "NOMBRE                            4819 non-null object\n",
      "MONTO                             4819 non-null float64\n",
      "FECHA DE PUBLICACIÓN              4819 non-null datetime64[ns]\n",
      "MES DE PUBLICACIÓN                4819 non-null object\n",
      "AÑO DE PUBLICACIÓN                4819 non-null int64\n",
      "FECHA DE ULTIMA ADJUDICACIÓN      4819 non-null datetime64[ns]\n",
      "FECHA DE ADJUDICACIÓN             4819 non-null datetime64[ns]\n",
      "MES DE ADJUDICACIÓN               4819 non-null object\n",
      "AÑO DE ADJUDICACIÓN               4819 non-null int64\n",
      "CATEGORÍAS                        4819 non-null object\n",
      "ESTATUS DEL CONCURSO              4819 non-null object\n",
      "FECHA CIERRE RECEPCIÓN OFERTAS    4819 non-null datetime64[ns]\n",
      "MES DE CIERRE RECEPCIÓN           4819 non-null object\n",
      "AÑO DE CIERRE RECEPCIÓN           4819 non-null int64\n",
      "dtypes: datetime64[ns](4), float64(1), int64(5), object(14)\n",
      "memory usage: 941.2+ KB\n"
     ]
    }
   ],
   "source": [
    "resultado.info()"
   ]
  },
  {
   "cell_type": "code",
   "execution_count": 10,
   "metadata": {},
   "outputs": [
    {
     "data": {
      "text/plain": [
       "NO                                4819\n",
       "TIPO DE ENTIDAD PADRE                2\n",
       "TIPO DE ENTIDAD                      5\n",
       "ENTIDAD COMPRADORA                 164\n",
       "UNIDAD COMPRADORA                  274\n",
       "NOG CONCURSO                      4224\n",
       "DESCRIPCIÓN                       4138\n",
       "MODALIDAD                            4\n",
       "SUB MODALIDAD                        1\n",
       "NIT                                736\n",
       "NOMBRE                             736\n",
       "MONTO                             2664\n",
       "FECHA DE PUBLICACIÓN                90\n",
       "MES DE PUBLICACIÓN                   4\n",
       "AÑO DE PUBLICACIÓN                   1\n",
       "FECHA DE ULTIMA ADJUDICACIÓN        86\n",
       "FECHA DE ADJUDICACIÓN               86\n",
       "MES DE ADJUDICACIÓN                  4\n",
       "AÑO DE ADJUDICACIÓN                  1\n",
       "CATEGORÍAS                          90\n",
       "ESTATUS DEL CONCURSO                 1\n",
       "FECHA CIERRE RECEPCIÓN OFERTAS    1373\n",
       "MES DE CIERRE RECEPCIÓN              4\n",
       "AÑO DE CIERRE RECEPCIÓN              1\n",
       "dtype: int64"
      ]
     },
     "execution_count": 10,
     "metadata": {},
     "output_type": "execute_result"
    }
   ],
   "source": [
    "#resultado.to_excel(\"salidaFinal.xlsx\")\n",
    "resultado.nunique()"
   ]
  },
  {
   "cell_type": "markdown",
   "metadata": {},
   "source": [
    "### Del listado anterior, donde totalizamos los valores únicos por cada columna, vemos varias cosas:\n",
    "\n",
    "1. Hay varios campos con valores únicos, candidatos eliminarse para el análisis futuro\n",
    "2. Hay algunas tipificaciones por Tipo de Entidad por analizar\n",
    "3. Hay 164 entidades compradoras y 274 unidades compradoras, ambas a niveles distintos.\n",
    "4. Hay más filas que concursos, ya que un concurso puede adjudicarse a más de un proveedor\n",
    "5. Hay 4 modalidades de compra, todas relacionadas con la emergencia del COVID19\n",
    "6. Hay 90 distintas categorías, que luego analizaremos\n",
    "7. Al haber fecha de recepción de ofertas, puede analizarse el tiempo en el que cada concurso estuvo abierto, y poder detectar anomalías.\n",
    "\n",
    "Todo lo anterior implica hacer ajustes en los tipos de datos para tratarlos mejor, situación que se hará en la siguientes líneas de código."
   ]
  },
  {
   "cell_type": "code",
   "execution_count": null,
   "metadata": {},
   "outputs": [],
   "source": []
  },
  {
   "cell_type": "code",
   "execution_count": 39,
   "metadata": {},
   "outputs": [
    {
     "data": {
      "text/plain": [
       "Procedimientos Regulados por el artículo 44 LCE (Casos de Excepción)    4486\n",
       "Compra Directa con Oferta Electrónica (Art. 43 LCE Inciso b)             258\n",
       "Compra Directa con Oferta Electrónica Ley de Emergencia COVID19           72\n",
       "Cotización (Art. 38 LCE)                                                   3\n",
       "Name: MODALIDAD, dtype: int64"
      ]
     },
     "execution_count": 39,
     "metadata": {},
     "output_type": "execute_result"
    }
   ],
   "source": [
    "resultado[\"MODALIDAD\"].value_counts()"
   ]
  },
  {
   "cell_type": "code",
   "execution_count": 46,
   "metadata": {},
   "outputs": [
    {
     "data": {
      "text/plain": [
       "MODALIDAD        4\n",
       "SUB MODALIDAD    1\n",
       "dtype: int64"
      ]
     },
     "execution_count": 46,
     "metadata": {},
     "output_type": "execute_result"
    }
   ],
   "source": [
    "resultado[[\"MODALIDAD\", \"SUB MODALIDAD\"]].nunique()"
   ]
  },
  {
   "cell_type": "code",
   "execution_count": 50,
   "metadata": {},
   "outputs": [
    {
     "data": {
      "text/plain": [
       "Sector Público                    4813\n",
       "Fideicomisos y otras entidades       6\n",
       "Name: TIPO DE ENTIDAD PADRE, dtype: int64"
      ]
     },
     "execution_count": 50,
     "metadata": {},
     "output_type": "execute_result"
    }
   ],
   "source": [
    "resultado[\"TIPO DE ENTIDAD PADRE\"].value_counts()"
   ]
  },
  {
   "cell_type": "code",
   "execution_count": 51,
   "metadata": {},
   "outputs": [
    {
     "data": {
      "text/plain": [
       "Administración Central                                         3042\n",
       "Entidades Descentralizadas, Autónomas y de Seguridad Social    1490\n",
       "Gobiernos Locales (Municipalidades, Mancomunidades, etc.)       270\n",
       "Empresas Públicas (Nacionales y Municipales)                     11\n",
       "ONG's, patronatos, comités, asociaciones y fundaciones            6\n",
       "Name: TIPO DE ENTIDAD, dtype: int64"
      ]
     },
     "execution_count": 51,
     "metadata": {},
     "output_type": "execute_result"
    }
   ],
   "source": [
    "resultado[\"TIPO DE ENTIDAD\"].value_counts()"
   ]
  },
  {
   "cell_type": "code",
   "execution_count": null,
   "metadata": {},
   "outputs": [],
   "source": []
  },
  {
   "cell_type": "code",
   "execution_count": null,
   "metadata": {},
   "outputs": [],
   "source": []
  },
  {
   "cell_type": "code",
   "execution_count": null,
   "metadata": {},
   "outputs": [],
   "source": []
  },
  {
   "cell_type": "code",
   "execution_count": null,
   "metadata": {},
   "outputs": [],
   "source": []
  },
  {
   "cell_type": "code",
   "execution_count": null,
   "metadata": {},
   "outputs": [],
   "source": []
  },
  {
   "cell_type": "code",
   "execution_count": null,
   "metadata": {},
   "outputs": [],
   "source": []
  },
  {
   "cell_type": "code",
   "execution_count": null,
   "metadata": {},
   "outputs": [],
   "source": []
  },
  {
   "cell_type": "code",
   "execution_count": null,
   "metadata": {},
   "outputs": [],
   "source": []
  },
  {
   "cell_type": "code",
   "execution_count": null,
   "metadata": {},
   "outputs": [],
   "source": []
  },
  {
   "cell_type": "code",
   "execution_count": null,
   "metadata": {},
   "outputs": [],
   "source": []
  },
  {
   "cell_type": "code",
   "execution_count": 38,
   "metadata": {},
   "outputs": [
    {
     "data": {
      "text/html": [
       "<div>\n",
       "<style scoped>\n",
       "    .dataframe tbody tr th:only-of-type {\n",
       "        vertical-align: middle;\n",
       "    }\n",
       "\n",
       "    .dataframe tbody tr th {\n",
       "        vertical-align: top;\n",
       "    }\n",
       "\n",
       "    .dataframe thead th {\n",
       "        text-align: right;\n",
       "    }\n",
       "</style>\n",
       "<table border=\"1\" class=\"dataframe\">\n",
       "  <thead>\n",
       "    <tr style=\"text-align: right;\">\n",
       "      <th></th>\n",
       "      <th>NO</th>\n",
       "      <th>TIPO DE ENTIDAD PADRE</th>\n",
       "      <th>TIPO DE ENTIDAD</th>\n",
       "      <th>ENTIDAD COMPRADORA</th>\n",
       "      <th>UNIDAD COMPRADORA</th>\n",
       "      <th>NOG CONCURSO</th>\n",
       "      <th>DESCRIPCIÓN</th>\n",
       "      <th>MODALIDAD</th>\n",
       "      <th>SUB MODALIDAD</th>\n",
       "      <th>NIT</th>\n",
       "      <th>...</th>\n",
       "      <th>AÑO DE PUBLICACIÓN</th>\n",
       "      <th>FECHA DE ULTIMA ADJUDICACIÓN</th>\n",
       "      <th>FECHA DE ADJUDICACIÓN</th>\n",
       "      <th>MES DE ADJUDICACIÓN</th>\n",
       "      <th>AÑO DE ADJUDICACIÓN</th>\n",
       "      <th>CATEGORÍAS</th>\n",
       "      <th>ESTATUS DEL CONCURSO</th>\n",
       "      <th>FECHA CIERRE RECEPCIÓN OFERTAS</th>\n",
       "      <th>MES DE CIERRE RECEPCIÓN</th>\n",
       "      <th>AÑO DE CIERRE RECEPCIÓN</th>\n",
       "    </tr>\n",
       "  </thead>\n",
       "  <tbody>\n",
       "    <tr>\n",
       "      <td>35328</td>\n",
       "      <td>35329</td>\n",
       "      <td>Sector Público</td>\n",
       "      <td>Administración Central</td>\n",
       "      <td>MINISTERIO DE SALUD PÚBLICA</td>\n",
       "      <td>HOSPITAL NACIONAL DE SAN PEDRO NECTA</td>\n",
       "      <td>12298638</td>\n",
       "      <td>ADQUISICIÓN DE PRODUCTOS MEDICINALES Y FARMACÉ...</td>\n",
       "      <td>Procedimientos Regulados por el artículo 44 LC...</td>\n",
       "      <td>Ley Constitucional de Orden Público (Art. 44 i...</td>\n",
       "      <td>8163294</td>\n",
       "      <td>...</td>\n",
       "      <td>2020</td>\n",
       "      <td>2020-04-14</td>\n",
       "      <td>2020-04-14</td>\n",
       "      <td>Abril</td>\n",
       "      <td>2020</td>\n",
       "      <td>Salud e insumos hospitalarios</td>\n",
       "      <td>Terminado adjudicado</td>\n",
       "      <td>2020-03-30 10:30:00</td>\n",
       "      <td>Marzo</td>\n",
       "      <td>2020</td>\n",
       "    </tr>\n",
       "    <tr>\n",
       "      <td>35329</td>\n",
       "      <td>35330</td>\n",
       "      <td>Sector Público</td>\n",
       "      <td>Administración Central</td>\n",
       "      <td>MINISTERIO DE SALUD PÚBLICA</td>\n",
       "      <td>HOSPITAL NACIONAL DE SAN PEDRO NECTA</td>\n",
       "      <td>12298638</td>\n",
       "      <td>ADQUISICIÓN DE PRODUCTOS MEDICINALES Y FARMACÉ...</td>\n",
       "      <td>Procedimientos Regulados por el artículo 44 LC...</td>\n",
       "      <td>Ley Constitucional de Orden Público (Art. 44 i...</td>\n",
       "      <td>22339655</td>\n",
       "      <td>...</td>\n",
       "      <td>2020</td>\n",
       "      <td>2020-04-14</td>\n",
       "      <td>2020-04-14</td>\n",
       "      <td>Abril</td>\n",
       "      <td>2020</td>\n",
       "      <td>Salud e insumos hospitalarios</td>\n",
       "      <td>Terminado adjudicado</td>\n",
       "      <td>2020-03-30 10:30:00</td>\n",
       "      <td>Marzo</td>\n",
       "      <td>2020</td>\n",
       "    </tr>\n",
       "    <tr>\n",
       "      <td>35330</td>\n",
       "      <td>35331</td>\n",
       "      <td>Sector Público</td>\n",
       "      <td>Administración Central</td>\n",
       "      <td>MINISTERIO DE SALUD PÚBLICA</td>\n",
       "      <td>HOSPITAL NACIONAL DE SAN PEDRO NECTA</td>\n",
       "      <td>12298638</td>\n",
       "      <td>ADQUISICIÓN DE PRODUCTOS MEDICINALES Y FARMACÉ...</td>\n",
       "      <td>Procedimientos Regulados por el artículo 44 LC...</td>\n",
       "      <td>Ley Constitucional de Orden Público (Art. 44 i...</td>\n",
       "      <td>39796558</td>\n",
       "      <td>...</td>\n",
       "      <td>2020</td>\n",
       "      <td>2020-04-14</td>\n",
       "      <td>2020-04-14</td>\n",
       "      <td>Abril</td>\n",
       "      <td>2020</td>\n",
       "      <td>Salud e insumos hospitalarios</td>\n",
       "      <td>Terminado adjudicado</td>\n",
       "      <td>2020-03-30 10:30:00</td>\n",
       "      <td>Marzo</td>\n",
       "      <td>2020</td>\n",
       "    </tr>\n",
       "    <tr>\n",
       "      <td>35331</td>\n",
       "      <td>35332</td>\n",
       "      <td>Sector Público</td>\n",
       "      <td>Administración Central</td>\n",
       "      <td>MINISTERIO DE SALUD PÚBLICA</td>\n",
       "      <td>HOSPITAL NACIONAL DE SAN PEDRO NECTA</td>\n",
       "      <td>12298638</td>\n",
       "      <td>ADQUISICIÓN DE PRODUCTOS MEDICINALES Y FARMACÉ...</td>\n",
       "      <td>Procedimientos Regulados por el artículo 44 LC...</td>\n",
       "      <td>Ley Constitucional de Orden Público (Art. 44 i...</td>\n",
       "      <td>41296184</td>\n",
       "      <td>...</td>\n",
       "      <td>2020</td>\n",
       "      <td>2020-04-14</td>\n",
       "      <td>2020-04-14</td>\n",
       "      <td>Abril</td>\n",
       "      <td>2020</td>\n",
       "      <td>Salud e insumos hospitalarios</td>\n",
       "      <td>Terminado adjudicado</td>\n",
       "      <td>2020-03-30 10:30:00</td>\n",
       "      <td>Marzo</td>\n",
       "      <td>2020</td>\n",
       "    </tr>\n",
       "    <tr>\n",
       "      <td>35332</td>\n",
       "      <td>35333</td>\n",
       "      <td>Sector Público</td>\n",
       "      <td>Administración Central</td>\n",
       "      <td>MINISTERIO DE SALUD PÚBLICA</td>\n",
       "      <td>HOSPITAL NACIONAL DE SAN PEDRO NECTA</td>\n",
       "      <td>12298638</td>\n",
       "      <td>ADQUISICIÓN DE PRODUCTOS MEDICINALES Y FARMACÉ...</td>\n",
       "      <td>Procedimientos Regulados por el artículo 44 LC...</td>\n",
       "      <td>Ley Constitucional de Orden Público (Art. 44 i...</td>\n",
       "      <td>104277823</td>\n",
       "      <td>...</td>\n",
       "      <td>2020</td>\n",
       "      <td>2020-04-14</td>\n",
       "      <td>2020-04-14</td>\n",
       "      <td>Abril</td>\n",
       "      <td>2020</td>\n",
       "      <td>Salud e insumos hospitalarios</td>\n",
       "      <td>Terminado adjudicado</td>\n",
       "      <td>2020-03-30 10:30:00</td>\n",
       "      <td>Marzo</td>\n",
       "      <td>2020</td>\n",
       "    </tr>\n",
       "    <tr>\n",
       "      <td>35333</td>\n",
       "      <td>35334</td>\n",
       "      <td>Sector Público</td>\n",
       "      <td>Administración Central</td>\n",
       "      <td>MINISTERIO DE SALUD PÚBLICA</td>\n",
       "      <td>HOSPITAL NACIONAL DE SAN PEDRO NECTA</td>\n",
       "      <td>12298638</td>\n",
       "      <td>ADQUISICIÓN DE PRODUCTOS MEDICINALES Y FARMACÉ...</td>\n",
       "      <td>Procedimientos Regulados por el artículo 44 LC...</td>\n",
       "      <td>Ley Constitucional de Orden Público (Art. 44 i...</td>\n",
       "      <td>7477279</td>\n",
       "      <td>...</td>\n",
       "      <td>2020</td>\n",
       "      <td>2020-04-14</td>\n",
       "      <td>2020-04-14</td>\n",
       "      <td>Abril</td>\n",
       "      <td>2020</td>\n",
       "      <td>Salud e insumos hospitalarios</td>\n",
       "      <td>Terminado adjudicado</td>\n",
       "      <td>2020-03-30 10:30:00</td>\n",
       "      <td>Marzo</td>\n",
       "      <td>2020</td>\n",
       "    </tr>\n",
       "    <tr>\n",
       "      <td>35334</td>\n",
       "      <td>35335</td>\n",
       "      <td>Sector Público</td>\n",
       "      <td>Administración Central</td>\n",
       "      <td>MINISTERIO DE SALUD PÚBLICA</td>\n",
       "      <td>HOSPITAL NACIONAL DE SAN PEDRO NECTA</td>\n",
       "      <td>12298638</td>\n",
       "      <td>ADQUISICIÓN DE PRODUCTOS MEDICINALES Y FARMACÉ...</td>\n",
       "      <td>Procedimientos Regulados por el artículo 44 LC...</td>\n",
       "      <td>Ley Constitucional de Orden Público (Art. 44 i...</td>\n",
       "      <td>6623069</td>\n",
       "      <td>...</td>\n",
       "      <td>2020</td>\n",
       "      <td>2020-04-14</td>\n",
       "      <td>2020-04-14</td>\n",
       "      <td>Abril</td>\n",
       "      <td>2020</td>\n",
       "      <td>Salud e insumos hospitalarios</td>\n",
       "      <td>Terminado adjudicado</td>\n",
       "      <td>2020-03-30 10:30:00</td>\n",
       "      <td>Marzo</td>\n",
       "      <td>2020</td>\n",
       "    </tr>\n",
       "    <tr>\n",
       "      <td>35335</td>\n",
       "      <td>35336</td>\n",
       "      <td>Sector Público</td>\n",
       "      <td>Administración Central</td>\n",
       "      <td>MINISTERIO DE SALUD PÚBLICA</td>\n",
       "      <td>HOSPITAL NACIONAL DE SAN PEDRO NECTA</td>\n",
       "      <td>12298638</td>\n",
       "      <td>ADQUISICIÓN DE PRODUCTOS MEDICINALES Y FARMACÉ...</td>\n",
       "      <td>Procedimientos Regulados por el artículo 44 LC...</td>\n",
       "      <td>Ley Constitucional de Orden Público (Art. 44 i...</td>\n",
       "      <td>5490421</td>\n",
       "      <td>...</td>\n",
       "      <td>2020</td>\n",
       "      <td>2020-04-14</td>\n",
       "      <td>2020-04-14</td>\n",
       "      <td>Abril</td>\n",
       "      <td>2020</td>\n",
       "      <td>Salud e insumos hospitalarios</td>\n",
       "      <td>Terminado adjudicado</td>\n",
       "      <td>2020-03-30 10:30:00</td>\n",
       "      <td>Marzo</td>\n",
       "      <td>2020</td>\n",
       "    </tr>\n",
       "    <tr>\n",
       "      <td>35336</td>\n",
       "      <td>35337</td>\n",
       "      <td>Sector Público</td>\n",
       "      <td>Administración Central</td>\n",
       "      <td>MINISTERIO DE SALUD PÚBLICA</td>\n",
       "      <td>HOSPITAL NACIONAL DE SAN PEDRO NECTA</td>\n",
       "      <td>12298638</td>\n",
       "      <td>ADQUISICIÓN DE PRODUCTOS MEDICINALES Y FARMACÉ...</td>\n",
       "      <td>Procedimientos Regulados por el artículo 44 LC...</td>\n",
       "      <td>Ley Constitucional de Orden Público (Art. 44 i...</td>\n",
       "      <td>4123670</td>\n",
       "      <td>...</td>\n",
       "      <td>2020</td>\n",
       "      <td>2020-04-14</td>\n",
       "      <td>2020-04-14</td>\n",
       "      <td>Abril</td>\n",
       "      <td>2020</td>\n",
       "      <td>Salud e insumos hospitalarios</td>\n",
       "      <td>Terminado adjudicado</td>\n",
       "      <td>2020-03-30 10:30:00</td>\n",
       "      <td>Marzo</td>\n",
       "      <td>2020</td>\n",
       "    </tr>\n",
       "    <tr>\n",
       "      <td>35337</td>\n",
       "      <td>35338</td>\n",
       "      <td>Sector Público</td>\n",
       "      <td>Administración Central</td>\n",
       "      <td>MINISTERIO DE SALUD PÚBLICA</td>\n",
       "      <td>HOSPITAL NACIONAL DE SAN PEDRO NECTA</td>\n",
       "      <td>12298638</td>\n",
       "      <td>ADQUISICIÓN DE PRODUCTOS MEDICINALES Y FARMACÉ...</td>\n",
       "      <td>Procedimientos Regulados por el artículo 44 LC...</td>\n",
       "      <td>Ley Constitucional de Orden Público (Art. 44 i...</td>\n",
       "      <td>1204076</td>\n",
       "      <td>...</td>\n",
       "      <td>2020</td>\n",
       "      <td>2020-04-14</td>\n",
       "      <td>2020-04-14</td>\n",
       "      <td>Abril</td>\n",
       "      <td>2020</td>\n",
       "      <td>Salud e insumos hospitalarios</td>\n",
       "      <td>Terminado adjudicado</td>\n",
       "      <td>2020-03-30 10:30:00</td>\n",
       "      <td>Marzo</td>\n",
       "      <td>2020</td>\n",
       "    </tr>\n",
       "    <tr>\n",
       "      <td>35338</td>\n",
       "      <td>35339</td>\n",
       "      <td>Sector Público</td>\n",
       "      <td>Administración Central</td>\n",
       "      <td>MINISTERIO DE SALUD PÚBLICA</td>\n",
       "      <td>HOSPITAL NACIONAL DE SAN PEDRO NECTA</td>\n",
       "      <td>12298638</td>\n",
       "      <td>ADQUISICIÓN DE PRODUCTOS MEDICINALES Y FARMACÉ...</td>\n",
       "      <td>Procedimientos Regulados por el artículo 44 LC...</td>\n",
       "      <td>Ley Constitucional de Orden Público (Art. 44 i...</td>\n",
       "      <td>2937913</td>\n",
       "      <td>...</td>\n",
       "      <td>2020</td>\n",
       "      <td>2020-04-14</td>\n",
       "      <td>2020-04-14</td>\n",
       "      <td>Abril</td>\n",
       "      <td>2020</td>\n",
       "      <td>Salud e insumos hospitalarios</td>\n",
       "      <td>Terminado adjudicado</td>\n",
       "      <td>2020-03-30 10:30:00</td>\n",
       "      <td>Marzo</td>\n",
       "      <td>2020</td>\n",
       "    </tr>\n",
       "  </tbody>\n",
       "</table>\n",
       "<p>11 rows × 24 columns</p>\n",
       "</div>"
      ],
      "text/plain": [
       "          NO TIPO DE ENTIDAD PADRE         TIPO DE ENTIDAD  \\\n",
       "35328  35329        Sector Público  Administración Central   \n",
       "35329  35330        Sector Público  Administración Central   \n",
       "35330  35331        Sector Público  Administración Central   \n",
       "35331  35332        Sector Público  Administración Central   \n",
       "35332  35333        Sector Público  Administración Central   \n",
       "35333  35334        Sector Público  Administración Central   \n",
       "35334  35335        Sector Público  Administración Central   \n",
       "35335  35336        Sector Público  Administración Central   \n",
       "35336  35337        Sector Público  Administración Central   \n",
       "35337  35338        Sector Público  Administración Central   \n",
       "35338  35339        Sector Público  Administración Central   \n",
       "\n",
       "                ENTIDAD COMPRADORA                     UNIDAD COMPRADORA  \\\n",
       "35328  MINISTERIO DE SALUD PÚBLICA  HOSPITAL NACIONAL DE SAN PEDRO NECTA   \n",
       "35329  MINISTERIO DE SALUD PÚBLICA  HOSPITAL NACIONAL DE SAN PEDRO NECTA   \n",
       "35330  MINISTERIO DE SALUD PÚBLICA  HOSPITAL NACIONAL DE SAN PEDRO NECTA   \n",
       "35331  MINISTERIO DE SALUD PÚBLICA  HOSPITAL NACIONAL DE SAN PEDRO NECTA   \n",
       "35332  MINISTERIO DE SALUD PÚBLICA  HOSPITAL NACIONAL DE SAN PEDRO NECTA   \n",
       "35333  MINISTERIO DE SALUD PÚBLICA  HOSPITAL NACIONAL DE SAN PEDRO NECTA   \n",
       "35334  MINISTERIO DE SALUD PÚBLICA  HOSPITAL NACIONAL DE SAN PEDRO NECTA   \n",
       "35335  MINISTERIO DE SALUD PÚBLICA  HOSPITAL NACIONAL DE SAN PEDRO NECTA   \n",
       "35336  MINISTERIO DE SALUD PÚBLICA  HOSPITAL NACIONAL DE SAN PEDRO NECTA   \n",
       "35337  MINISTERIO DE SALUD PÚBLICA  HOSPITAL NACIONAL DE SAN PEDRO NECTA   \n",
       "35338  MINISTERIO DE SALUD PÚBLICA  HOSPITAL NACIONAL DE SAN PEDRO NECTA   \n",
       "\n",
       "       NOG CONCURSO                                        DESCRIPCIÓN  \\\n",
       "35328      12298638  ADQUISICIÓN DE PRODUCTOS MEDICINALES Y FARMACÉ...   \n",
       "35329      12298638  ADQUISICIÓN DE PRODUCTOS MEDICINALES Y FARMACÉ...   \n",
       "35330      12298638  ADQUISICIÓN DE PRODUCTOS MEDICINALES Y FARMACÉ...   \n",
       "35331      12298638  ADQUISICIÓN DE PRODUCTOS MEDICINALES Y FARMACÉ...   \n",
       "35332      12298638  ADQUISICIÓN DE PRODUCTOS MEDICINALES Y FARMACÉ...   \n",
       "35333      12298638  ADQUISICIÓN DE PRODUCTOS MEDICINALES Y FARMACÉ...   \n",
       "35334      12298638  ADQUISICIÓN DE PRODUCTOS MEDICINALES Y FARMACÉ...   \n",
       "35335      12298638  ADQUISICIÓN DE PRODUCTOS MEDICINALES Y FARMACÉ...   \n",
       "35336      12298638  ADQUISICIÓN DE PRODUCTOS MEDICINALES Y FARMACÉ...   \n",
       "35337      12298638  ADQUISICIÓN DE PRODUCTOS MEDICINALES Y FARMACÉ...   \n",
       "35338      12298638  ADQUISICIÓN DE PRODUCTOS MEDICINALES Y FARMACÉ...   \n",
       "\n",
       "                                               MODALIDAD  \\\n",
       "35328  Procedimientos Regulados por el artículo 44 LC...   \n",
       "35329  Procedimientos Regulados por el artículo 44 LC...   \n",
       "35330  Procedimientos Regulados por el artículo 44 LC...   \n",
       "35331  Procedimientos Regulados por el artículo 44 LC...   \n",
       "35332  Procedimientos Regulados por el artículo 44 LC...   \n",
       "35333  Procedimientos Regulados por el artículo 44 LC...   \n",
       "35334  Procedimientos Regulados por el artículo 44 LC...   \n",
       "35335  Procedimientos Regulados por el artículo 44 LC...   \n",
       "35336  Procedimientos Regulados por el artículo 44 LC...   \n",
       "35337  Procedimientos Regulados por el artículo 44 LC...   \n",
       "35338  Procedimientos Regulados por el artículo 44 LC...   \n",
       "\n",
       "                                           SUB MODALIDAD        NIT  ...  \\\n",
       "35328  Ley Constitucional de Orden Público (Art. 44 i...    8163294  ...   \n",
       "35329  Ley Constitucional de Orden Público (Art. 44 i...   22339655  ...   \n",
       "35330  Ley Constitucional de Orden Público (Art. 44 i...   39796558  ...   \n",
       "35331  Ley Constitucional de Orden Público (Art. 44 i...   41296184  ...   \n",
       "35332  Ley Constitucional de Orden Público (Art. 44 i...  104277823  ...   \n",
       "35333  Ley Constitucional de Orden Público (Art. 44 i...    7477279  ...   \n",
       "35334  Ley Constitucional de Orden Público (Art. 44 i...    6623069  ...   \n",
       "35335  Ley Constitucional de Orden Público (Art. 44 i...    5490421  ...   \n",
       "35336  Ley Constitucional de Orden Público (Art. 44 i...    4123670  ...   \n",
       "35337  Ley Constitucional de Orden Público (Art. 44 i...    1204076  ...   \n",
       "35338  Ley Constitucional de Orden Público (Art. 44 i...    2937913  ...   \n",
       "\n",
       "      AÑO DE PUBLICACIÓN  FECHA DE ULTIMA ADJUDICACIÓN FECHA DE ADJUDICACIÓN  \\\n",
       "35328               2020                    2020-04-14            2020-04-14   \n",
       "35329               2020                    2020-04-14            2020-04-14   \n",
       "35330               2020                    2020-04-14            2020-04-14   \n",
       "35331               2020                    2020-04-14            2020-04-14   \n",
       "35332               2020                    2020-04-14            2020-04-14   \n",
       "35333               2020                    2020-04-14            2020-04-14   \n",
       "35334               2020                    2020-04-14            2020-04-14   \n",
       "35335               2020                    2020-04-14            2020-04-14   \n",
       "35336               2020                    2020-04-14            2020-04-14   \n",
       "35337               2020                    2020-04-14            2020-04-14   \n",
       "35338               2020                    2020-04-14            2020-04-14   \n",
       "\n",
       "      MES DE ADJUDICACIÓN  AÑO DE ADJUDICACIÓN                     CATEGORÍAS  \\\n",
       "35328          Abril                      2020  Salud e insumos hospitalarios   \n",
       "35329          Abril                      2020  Salud e insumos hospitalarios   \n",
       "35330          Abril                      2020  Salud e insumos hospitalarios   \n",
       "35331          Abril                      2020  Salud e insumos hospitalarios   \n",
       "35332          Abril                      2020  Salud e insumos hospitalarios   \n",
       "35333          Abril                      2020  Salud e insumos hospitalarios   \n",
       "35334          Abril                      2020  Salud e insumos hospitalarios   \n",
       "35335          Abril                      2020  Salud e insumos hospitalarios   \n",
       "35336          Abril                      2020  Salud e insumos hospitalarios   \n",
       "35337          Abril                      2020  Salud e insumos hospitalarios   \n",
       "35338          Abril                      2020  Salud e insumos hospitalarios   \n",
       "\n",
       "       ESTATUS DEL CONCURSO FECHA CIERRE RECEPCIÓN OFERTAS  \\\n",
       "35328  Terminado adjudicado            2020-03-30 10:30:00   \n",
       "35329  Terminado adjudicado            2020-03-30 10:30:00   \n",
       "35330  Terminado adjudicado            2020-03-30 10:30:00   \n",
       "35331  Terminado adjudicado            2020-03-30 10:30:00   \n",
       "35332  Terminado adjudicado            2020-03-30 10:30:00   \n",
       "35333  Terminado adjudicado            2020-03-30 10:30:00   \n",
       "35334  Terminado adjudicado            2020-03-30 10:30:00   \n",
       "35335  Terminado adjudicado            2020-03-30 10:30:00   \n",
       "35336  Terminado adjudicado            2020-03-30 10:30:00   \n",
       "35337  Terminado adjudicado            2020-03-30 10:30:00   \n",
       "35338  Terminado adjudicado            2020-03-30 10:30:00   \n",
       "\n",
       "       MES DE CIERRE RECEPCIÓN AÑO DE CIERRE RECEPCIÓN  \n",
       "35328               Marzo                         2020  \n",
       "35329               Marzo                         2020  \n",
       "35330               Marzo                         2020  \n",
       "35331               Marzo                         2020  \n",
       "35332               Marzo                         2020  \n",
       "35333               Marzo                         2020  \n",
       "35334               Marzo                         2020  \n",
       "35335               Marzo                         2020  \n",
       "35336               Marzo                         2020  \n",
       "35337               Marzo                         2020  \n",
       "35338               Marzo                         2020  \n",
       "\n",
       "[11 rows x 24 columns]"
      ]
     },
     "execution_count": 38,
     "metadata": {},
     "output_type": "execute_result"
    }
   ],
   "source": [
    "resultado[resultado[\"NOG CONCURSO\"] == 12298638]"
   ]
  },
  {
   "cell_type": "code",
   "execution_count": null,
   "metadata": {},
   "outputs": [],
   "source": []
  },
  {
   "cell_type": "code",
   "execution_count": null,
   "metadata": {},
   "outputs": [],
   "source": []
  },
  {
   "cell_type": "code",
   "execution_count": null,
   "metadata": {},
   "outputs": [],
   "source": []
  },
  {
   "cell_type": "code",
   "execution_count": 12,
   "metadata": {},
   "outputs": [
    {
     "name": "stdout",
     "output_type": "stream",
     "text": [
      "                 NO  NOG CONCURSO         MONTO  AÑO DE PUBLICACIÓN  \\\n",
      "count  60977.000000  6.097700e+04  6.097700e+04             60977.0   \n",
      "mean   30489.000000  1.222895e+07  1.057128e+05              2020.0   \n",
      "std    17602.688019  3.032667e+05  2.283169e+06                 0.0   \n",
      "min        1.000000  7.501951e+06  1.000000e-02              2020.0   \n",
      "25%    15245.000000  1.198160e+07  6.000000e+03              2020.0   \n",
      "50%    30489.000000  1.221140e+07  3.808000e+04              2020.0   \n",
      "75%    45733.000000  1.248814e+07  8.192000e+04              2020.0   \n",
      "max    60977.000000  1.281930e+07  4.454703e+08              2020.0   \n",
      "\n",
      "       AÑO DE ADJUDICACIÓN  AÑO DE CIERRE RECEPCIÓN  \n",
      "count              60977.0                  60977.0  \n",
      "mean                2020.0                   2020.0  \n",
      "std                    0.0                      0.0  \n",
      "min                 2020.0                   2020.0  \n",
      "25%                 2020.0                   2020.0  \n",
      "50%                 2020.0                   2020.0  \n",
      "75%                 2020.0                   2020.0  \n",
      "max                 2020.0                   2020.0  \n"
     ]
    }
   ],
   "source": [
    "print(gttodos.describe())"
   ]
  },
  {
   "cell_type": "code",
   "execution_count": 13,
   "metadata": {},
   "outputs": [
    {
     "data": {
      "text/html": [
       "<div>\n",
       "<style scoped>\n",
       "    .dataframe tbody tr th:only-of-type {\n",
       "        vertical-align: middle;\n",
       "    }\n",
       "\n",
       "    .dataframe tbody tr th {\n",
       "        vertical-align: top;\n",
       "    }\n",
       "\n",
       "    .dataframe thead th {\n",
       "        text-align: right;\n",
       "    }\n",
       "</style>\n",
       "<table border=\"1\" class=\"dataframe\">\n",
       "  <thead>\n",
       "    <tr style=\"text-align: right;\">\n",
       "      <th></th>\n",
       "      <th>FILA</th>\n",
       "      <th>NOG_CONCURSO</th>\n",
       "      <th>MONTO</th>\n",
       "      <th>CANTIDAD</th>\n",
       "    </tr>\n",
       "  </thead>\n",
       "  <tbody>\n",
       "    <tr>\n",
       "      <td>count</td>\n",
       "      <td>4237.000000</td>\n",
       "      <td>4.237000e+03</td>\n",
       "      <td>4.237000e+03</td>\n",
       "      <td>4237.000000</td>\n",
       "    </tr>\n",
       "    <tr>\n",
       "      <td>mean</td>\n",
       "      <td>2119.000000</td>\n",
       "      <td>1.250777e+07</td>\n",
       "      <td>1.313175e+05</td>\n",
       "      <td>1.142082</td>\n",
       "    </tr>\n",
       "    <tr>\n",
       "      <td>std</td>\n",
       "      <td>1223.260874</td>\n",
       "      <td>1.464160e+05</td>\n",
       "      <td>8.815596e+05</td>\n",
       "      <td>0.632841</td>\n",
       "    </tr>\n",
       "    <tr>\n",
       "      <td>min</td>\n",
       "      <td>1.000000</td>\n",
       "      <td>1.216780e+07</td>\n",
       "      <td>4.000000e+01</td>\n",
       "      <td>1.000000</td>\n",
       "    </tr>\n",
       "    <tr>\n",
       "      <td>25%</td>\n",
       "      <td>1060.000000</td>\n",
       "      <td>1.237425e+07</td>\n",
       "      <td>1.430000e+04</td>\n",
       "      <td>1.000000</td>\n",
       "    </tr>\n",
       "    <tr>\n",
       "      <td>50%</td>\n",
       "      <td>2119.000000</td>\n",
       "      <td>1.251048e+07</td>\n",
       "      <td>4.774000e+04</td>\n",
       "      <td>1.000000</td>\n",
       "    </tr>\n",
       "    <tr>\n",
       "      <td>75%</td>\n",
       "      <td>3178.000000</td>\n",
       "      <td>1.262826e+07</td>\n",
       "      <td>8.436700e+04</td>\n",
       "      <td>1.000000</td>\n",
       "    </tr>\n",
       "    <tr>\n",
       "      <td>max</td>\n",
       "      <td>4237.000000</td>\n",
       "      <td>1.281063e+07</td>\n",
       "      <td>2.913000e+07</td>\n",
       "      <td>11.000000</td>\n",
       "    </tr>\n",
       "  </tbody>\n",
       "</table>\n",
       "</div>"
      ],
      "text/plain": [
       "              FILA  NOG_CONCURSO         MONTO     CANTIDAD\n",
       "count  4237.000000  4.237000e+03  4.237000e+03  4237.000000\n",
       "mean   2119.000000  1.250777e+07  1.313175e+05     1.142082\n",
       "std    1223.260874  1.464160e+05  8.815596e+05     0.632841\n",
       "min       1.000000  1.216780e+07  4.000000e+01     1.000000\n",
       "25%    1060.000000  1.237425e+07  1.430000e+04     1.000000\n",
       "50%    2119.000000  1.251048e+07  4.774000e+04     1.000000\n",
       "75%    3178.000000  1.262826e+07  8.436700e+04     1.000000\n",
       "max    4237.000000  1.281063e+07  2.913000e+07    11.000000"
      ]
     },
     "execution_count": 13,
     "metadata": {},
     "output_type": "execute_result"
    }
   ],
   "source": [
    "gtcovid.describe()"
   ]
  },
  {
   "cell_type": "code",
   "execution_count": 14,
   "metadata": {},
   "outputs": [],
   "source": [
    "solocovid = pd.merge(gttodos, gtcovid, left_on = \"NOG CONCURSO\", right_on = \"NOG_CONCURSO\", how=\"right\")"
   ]
  },
  {
   "cell_type": "code",
   "execution_count": 15,
   "metadata": {},
   "outputs": [
    {
     "name": "stdout",
     "output_type": "stream",
     "text": [
      "<class 'pandas.core.frame.DataFrame'>\n",
      "Int64Index: 4832 entries, 0 to 4831\n",
      "Data columns (total 38 columns):\n",
      "NO                                4819 non-null float64\n",
      "TIPO DE ENTIDAD PADRE             4819 non-null object\n",
      "TIPO DE ENTIDAD                   4819 non-null object\n",
      "ENTIDAD COMPRADORA                4819 non-null object\n",
      "UNIDAD COMPRADORA                 4819 non-null object\n",
      "NOG CONCURSO                      4819 non-null float64\n",
      "DESCRIPCIÓN                       4819 non-null object\n",
      "MODALIDAD                         4819 non-null object\n",
      "SUB MODALIDAD                     4486 non-null object\n",
      "NIT                               4819 non-null object\n",
      "NOMBRE                            4819 non-null object\n",
      "MONTO_x                           4819 non-null float64\n",
      "FECHA DE PUBLICACIÓN              4819 non-null datetime64[ns]\n",
      "MES DE PUBLICACIÓN                4819 non-null object\n",
      "AÑO DE PUBLICACIÓN                4819 non-null float64\n",
      "FECHA DE ULTIMA ADJUDICACIÓN      4819 non-null datetime64[ns]\n",
      "FECHA DE ADJUDICACIÓN             4819 non-null datetime64[ns]\n",
      "MES DE ADJUDICACIÓN               4819 non-null object\n",
      "AÑO DE ADJUDICACIÓN               4819 non-null float64\n",
      "CATEGORÍAS                        4819 non-null object\n",
      "ESTATUS DEL CONCURSO              4819 non-null object\n",
      "FECHA CIERRE RECEPCIÓN OFERTAS    4819 non-null datetime64[ns]\n",
      "MES DE CIERRE RECEPCIÓN           4819 non-null object\n",
      "AÑO DE CIERRE RECEPCIÓN           4819 non-null float64\n",
      "FILA                              4832 non-null int64\n",
      "NOG_CONCURSO                      4832 non-null int64\n",
      "FECHA_PUBLICACION                 4832 non-null datetime64[ns]\n",
      "FECHA_LIMITE                      4832 non-null datetime64[ns]\n",
      "TIPO_CONCURSO                     4832 non-null object\n",
      "ESTATUS_CONCURSO                  4832 non-null object\n",
      "NOMBRE_ENTIDAD                    4832 non-null object\n",
      "NOMBRE_UNIDAD                     4832 non-null object\n",
      "TITULO_NOG                        4832 non-null object\n",
      "NOMBRE_MODALIDAD                  4832 non-null object\n",
      "MONTO_y                           4832 non-null float64\n",
      "CANTIDAD                          4832 non-null int64\n",
      "CATEGORIA                         4832 non-null object\n",
      "NUMERO_DOCUMENTO                  4832 non-null object\n",
      "dtypes: datetime64[ns](6), float64(7), int64(3), object(22)\n",
      "memory usage: 1.4+ MB\n"
     ]
    }
   ],
   "source": [
    "solocovid.info()"
   ]
  },
  {
   "cell_type": "code",
   "execution_count": 16,
   "metadata": {},
   "outputs": [
    {
     "name": "stdout",
     "output_type": "stream",
     "text": [
      "<class 'pandas.core.frame.DataFrame'>\n",
      "RangeIndex: 4237 entries, 0 to 4236\n",
      "Data columns (total 14 columns):\n",
      "FILA                 4237 non-null int64\n",
      "NOG_CONCURSO         4237 non-null int64\n",
      "FECHA_PUBLICACION    4237 non-null datetime64[ns]\n",
      "FECHA_LIMITE         4237 non-null datetime64[ns]\n",
      "TIPO_CONCURSO        4237 non-null object\n",
      "ESTATUS_CONCURSO     4237 non-null object\n",
      "NOMBRE_ENTIDAD       4237 non-null object\n",
      "NOMBRE_UNIDAD        4237 non-null object\n",
      "TITULO_NOG           4237 non-null object\n",
      "NOMBRE_MODALIDAD     4237 non-null object\n",
      "MONTO                4237 non-null float64\n",
      "CANTIDAD             4237 non-null int64\n",
      "CATEGORIA            4237 non-null object\n",
      "NUMERO_DOCUMENTO     4237 non-null object\n",
      "dtypes: datetime64[ns](2), float64(1), int64(3), object(8)\n",
      "memory usage: 463.5+ KB\n"
     ]
    }
   ],
   "source": [
    "gtcovid.info()"
   ]
  },
  {
   "cell_type": "code",
   "execution_count": 23,
   "metadata": {},
   "outputs": [
    {
     "data": {
      "text/plain": [
       "4237"
      ]
     },
     "execution_count": 23,
     "metadata": {},
     "output_type": "execute_result"
    }
   ],
   "source": [
    "len(pd.unique(gtcovid[\"NOG_CONCURSO\"]))"
   ]
  },
  {
   "cell_type": "code",
   "execution_count": null,
   "metadata": {},
   "outputs": [],
   "source": [
    "len(pd.unique(gtcovid[\"NOG_CONCURSO\"]))"
   ]
  },
  {
   "cell_type": "code",
   "execution_count": 24,
   "metadata": {},
   "outputs": [],
   "source": [
    "import seaborn as sns"
   ]
  },
  {
   "cell_type": "code",
   "execution_count": 25,
   "metadata": {},
   "outputs": [
    {
     "data": {
      "text/plain": [
       "<matplotlib.axes._subplots.AxesSubplot at 0x7f8ab7fdc1d0>"
      ]
     },
     "execution_count": 25,
     "metadata": {},
     "output_type": "execute_result"
    },
    {
     "data": {
      "image/png": "[encoded data removed]",
      "text/plain": [
       "<Figure size 432x288 with 1 Axes>"
      ]
     },
     "metadata": {
      "needs_background": "light"
     },
     "output_type": "display_data"
    }
   ],
   "source": [
    "sns.heatmap(solocovid.isnull(), cbar=False)"
   ]
  },
  {
   "cell_type": "code",
   "execution_count": null,
   "metadata": {},
   "outputs": [],
   "source": [
    "resultado = gttodos[]"
   ]
  },
  {
   "cell_type": "code",
   "execution_count": null,
   "metadata": {},
   "outputs": [],
   "source": []
  },
  {
   "cell_type": "code",
   "execution_count": null,
   "metadata": {},
   "outputs": [],
   "source": []
  },
  {
   "cell_type": "code",
   "execution_count": null,
   "metadata": {},
   "outputs": [],
   "source": []
  },
  {
   "cell_type": "code",
   "execution_count": null,
   "metadata": {},
   "outputs": [],
   "source": []
  },
  {
   "cell_type": "code",
   "execution_count": null,
   "metadata": {},
   "outputs": [],
   "source": []
  },
  {
   "cell_type": "code",
   "execution_count": null,
   "metadata": {},
   "outputs": [],
   "source": []
  },
  {
   "cell_type": "code",
   "execution_count": null,
   "metadata": {},
   "outputs": [],
   "source": []
  },
  {
   "cell_type": "code",
   "execution_count": null,
   "metadata": {},
   "outputs": [],
   "source": []
  },
  {
   "cell_type": "code",
   "execution_count": null,
   "metadata": {},
   "outputs": [],
   "source": []
  },
  {
   "cell_type": "code",
   "execution_count": null,
   "metadata": {},
   "outputs": [],
   "source": []
  },
  {
   "cell_type": "code",
   "execution_count": null,
   "metadata": {},
   "outputs": [],
   "source": []
  }
 ],
 "metadata": {
  "kernelspec": {
   "display_name": "Python 3",
   "language": "python",
   "name": "python3"
  },
  "language_info": {
   "codemirror_mode": {
    "name": "ipython",
    "version": 3
   },
   "file_extension": ".py",
   "mimetype": "text/x-python",
   "name": "python",
   "nbconvert_exporter": "python",
   "pygments_lexer": "ipython3",
   "version": "3.7.4"
  }
 },
 "nbformat": 4,
 "nbformat_minor": 2
}
